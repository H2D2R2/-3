{
  "nbformat": 4,
  "nbformat_minor": 0,
  "metadata": {
    "colab": {
      "name": "Домашнее задание 3",
      "provenance": [],
      "collapsed_sections": [],
      "authorship_tag": "ABX9TyPsSOnQuCeG51KuplumCAE5",
      "include_colab_link": true
    },
    "kernelspec": {
      "name": "python3",
      "display_name": "Python 3"
    }
  },
  "cells": [
    {
      "cell_type": "markdown",
      "metadata": {
        "id": "view-in-github",
        "colab_type": "text"
      },
      "source": [
        "<a href=\"https://colab.research.google.com/github/H2D2R2/Dz3/blob/main/%D0%94%D0%BE%D0%BC%D0%B0%D1%88%D0%BD%D0%B5%D0%B5_%D0%B7%D0%B0%D0%B4%D0%B0%D0%BD%D0%B8%D0%B5_3.ipynb\" target=\"_parent\"><img src=\"https://colab.research.google.com/assets/colab-badge.svg\" alt=\"Open In Colab\"/></a>"
      ]
    },
    {
      "cell_type": "code",
      "metadata": {
        "id": "Ww-SrBCfC8uf"
      },
      "source": [
        "import numpy as np\n",
        "import pandas as pd\n",
        "import matplotlib.pyplot as plt\n",
        "import warnings\n",
        "from math import factorial\n",
        "from math import sqrt"
      ],
      "execution_count": null,
      "outputs": []
    },
    {
      "cell_type": "markdown",
      "metadata": {
        "id": "Inw3uh_yWlMI"
      },
      "source": [
        "# Задание 1\n",
        "\n",
        "Даны значения зарплат из выборки выпускников: 100, 80, 75, 77, 89, 33, 45, 25, 65, 17, 30, 24, 57, 55, 70, 75, 65, 84, 90, 150. Посчитать (желательно без использования статистических методов наподобие std, var, mean) среднее арифметическое, среднее квадратичное отклонение, смещенную и несмещенную оценки дисперсий для данной выборки."
      ]
    },
    {
      "cell_type": "code",
      "metadata": {
        "id": "2-_p4FvEhkOW"
      },
      "source": [
        "zp = np.array([100, 80, 75, 77, 89, 33, 45, 25, 65, 17, 30, 24, 57, 55, 70, 75, 65, 84, 90, 150])"
      ],
      "execution_count": null,
      "outputs": []
    },
    {
      "cell_type": "code",
      "metadata": {
        "id": "NNbyZcL_Wnl3",
        "outputId": "dce0faa5-ef3f-419a-d73a-69ab0c846fbb",
        "colab": {
          "base_uri": "https://localhost:8080/"
        }
      },
      "source": [
        "s = sum (zp)  / len (zp)\n",
        "s"
      ],
      "execution_count": null,
      "outputs": [
        {
          "output_type": "execute_result",
          "data": {
            "text/plain": [
              "65.3"
            ]
          },
          "metadata": {
            "tags": []
          },
          "execution_count": 24
        }
      ]
    },
    {
      "cell_type": "code",
      "metadata": {
        "id": "3vb-aKw2hoH5",
        "outputId": "d11af7b7-e1e5-4082-f418-cb10a3b7e070",
        "colab": {
          "base_uri": "https://localhost:8080/"
        }
      },
      "source": [
        "sk = sqrt(((len (zp) - s) **2) / len (zp))\n",
        "sk"
      ],
      "execution_count": null,
      "outputs": [
        {
          "output_type": "execute_result",
          "data": {
            "text/plain": [
              "10.129387938074046"
            ]
          },
          "metadata": {
            "tags": []
          },
          "execution_count": 28
        }
      ]
    },
    {
      "cell_type": "code",
      "metadata": {
        "id": "sL7SJxLbjmpb",
        "outputId": "a950f8b7-b341-4e21-d155-a116bbef8ef9",
        "colab": {
          "base_uri": "https://localhost:8080/"
        }
      },
      "source": [
        "sk1 = sqrt(((len (zp) - s) **2) / (len (zp) -1))\n",
        "sk1"
      ],
      "execution_count": null,
      "outputs": [
        {
          "output_type": "execute_result",
          "data": {
            "text/plain": [
              "10.392532744336448"
            ]
          },
          "metadata": {
            "tags": []
          },
          "execution_count": 29
        }
      ]
    },
    {
      "cell_type": "markdown",
      "metadata": {
        "id": "FSxE2r8Pj8C7"
      },
      "source": [
        "Ответ: \n",
        "Среднее арифметическое - 65.3;среднее квадратичное отклонение - 10.1; смещенная оценка дисперсии - 10.1; несмещенная оценка дисперсии - 10.3;  \n"
      ]
    },
    {
      "cell_type": "markdown",
      "metadata": {
        "id": "uvcBM4gAWpA_"
      },
      "source": [
        "# Задание 2\n",
        "\n",
        "В первом ящике находится 8 мячей, из которых 5 - белые. Во втором ящике - 12 мячей, из которых 5 белых. Из первого ящика вытаскивают случайным образом два мяча, из второго - 4. Какова вероятность того, что 3 мяча белые?"
      ]
    },
    {
      "cell_type": "code",
      "metadata": {
        "id": "OQsw13-oWvpc",
        "outputId": "a488ec27-2453-4612-857c-bc5568fe246f",
        "colab": {
          "base_uri": "https://localhost:8080/"
        }
      },
      "source": [
        "def comb(n, k):\n",
        "    return int(factorial(n) / (factorial(k) * factorial(n - k)))\n",
        "\n",
        "p1 = (comb (5,2) / comb (8,2))  *  ((comb (5,1) * comb(7,3)) / comb (12,4))\n",
        "p2 = ((comb (5,1) * comb (3,1)) / comb (8,2)) * ((comb(5,2) * comb (7,2)) / comb (12,4))\n",
        "p3 = (comb (3,2) / comb (8,2)) * (comb (5,3)/ comb(12,4))\n",
        "\n",
        "(p1+p2+p3) *100"
      ],
      "execution_count": null,
      "outputs": [
        {
          "output_type": "execute_result",
          "data": {
            "text/plain": [
              "35.56998556998557"
            ]
          },
          "metadata": {
            "tags": []
          },
          "execution_count": 14
        }
      ]
    },
    {
      "cell_type": "markdown",
      "metadata": {
        "id": "P0rt7V5Kd7O5"
      },
      "source": [
        "Ответ: 35.5%"
      ]
    },
    {
      "cell_type": "markdown",
      "metadata": {
        "id": "lkPafP-jyqR9"
      },
      "source": [
        "# Задание 3\n",
        "\n",
        "На соревновании по биатлону один из трех спортсменов стреляет и попадает в мишень. Вероятность попадания для первого спортсмена равна 0.9, для второго — 0.8, для третьего — 0.6. Найти вероятность того, что выстрел произведен: a). первым спортсменом б). вторым спортсменом в). третьим спортсменом."
      ]
    },
    {
      "cell_type": "markdown",
      "metadata": {
        "id": "s6SBTWnWzAHG"
      },
      "source": [
        "А) "
      ]
    },
    {
      "cell_type": "code",
      "metadata": {
        "id": "VB2Tl5Wbyub5",
        "outputId": "0f4796f2-10a1-4aaa-f13c-d21afbfdb584",
        "colab": {
          "base_uri": "https://localhost:8080/"
        }
      },
      "source": [
        "#решаем по формуле Байенса\n",
        "\n",
        "B1 = 0.9\n",
        "B2 = 0.8\n",
        "B3 = 0.6\n",
        "\n",
        "A = (1/3 * B1) + (1/3 * B2) + (1/3 * B3)\n",
        "\n",
        "(B1 * 1/3) / A *100"
      ],
      "execution_count": null,
      "outputs": [
        {
          "output_type": "execute_result",
          "data": {
            "text/plain": [
              "39.130434782608695"
            ]
          },
          "metadata": {
            "tags": []
          },
          "execution_count": 34
        }
      ]
    },
    {
      "cell_type": "markdown",
      "metadata": {
        "id": "j3yxa5b30EfX"
      },
      "source": [
        "Б)"
      ]
    },
    {
      "cell_type": "code",
      "metadata": {
        "id": "ySuFzrVa0Dqv",
        "outputId": "de161e9b-a7b8-4339-e60c-4e8bb98a93c4",
        "colab": {
          "base_uri": "https://localhost:8080/"
        }
      },
      "source": [
        "(B2 * 1/3) / A *100"
      ],
      "execution_count": null,
      "outputs": [
        {
          "output_type": "execute_result",
          "data": {
            "text/plain": [
              "34.78260869565218"
            ]
          },
          "metadata": {
            "tags": []
          },
          "execution_count": 36
        }
      ]
    },
    {
      "cell_type": "markdown",
      "metadata": {
        "id": "SbJk0WYm0L7_"
      },
      "source": [
        "В)\n"
      ]
    },
    {
      "cell_type": "code",
      "metadata": {
        "id": "tCjKO2ix0POX",
        "outputId": "ff58e334-5044-403c-c980-6399abfd7f89",
        "colab": {
          "base_uri": "https://localhost:8080/"
        }
      },
      "source": [
        "(B3 * 1/3) / A *100"
      ],
      "execution_count": null,
      "outputs": [
        {
          "output_type": "execute_result",
          "data": {
            "text/plain": [
              "26.08695652173913"
            ]
          },
          "metadata": {
            "tags": []
          },
          "execution_count": 38
        }
      ]
    },
    {
      "cell_type": "markdown",
      "metadata": {
        "id": "v2dLfD8G0guA"
      },
      "source": [
        "Ответ: A) 39.1%; Б) 34.1%; В) 26%;"
      ]
    },
    {
      "cell_type": "markdown",
      "metadata": {
        "id": "ERuprQKq05SK"
      },
      "source": [
        "# Задание 4\n",
        "\n",
        "В университет на факультеты A и B поступило равное количество студентов, а на факультет C студентов поступило столько же, сколько на A и B вместе. Вероятность того, что студент факультета A сдаст первую сессию, равна 0.8. Для студента факультета B эта вероятность равна 0.7, а для студента факультета C - 0.9. Студент сдал первую сессию. Какова вероятность, что он учится: a). на факультете A б). на факультете B в). на факультете C?"
      ]
    },
    {
      "cell_type": "code",
      "metadata": {
        "id": "vDzZtRzX094z",
        "outputId": "3a136af7-57a1-433d-91d4-91be06c1e179",
        "colab": {
          "base_uri": "https://localhost:8080/"
        }
      },
      "source": [
        "#решаем по формуле Байенса\n",
        "\n",
        "B1 = 0.8\n",
        "B2 = 0.7\n",
        "B3 = 0.9\n",
        "\n",
        "A = (1/2 * B1) + (1/4 * B2) + (1/4 * B3)\n",
        "\n",
        "(B1 * 1/3) / A *100"
      ],
      "execution_count": null,
      "outputs": [
        {
          "output_type": "execute_result",
          "data": {
            "text/plain": [
              "33.333333333333336"
            ]
          },
          "metadata": {
            "tags": []
          },
          "execution_count": 39
        }
      ]
    },
    {
      "cell_type": "code",
      "metadata": {
        "id": "TdsoCdnP1RKm",
        "outputId": "485320b8-04aa-4ffa-b256-554f60636a4c",
        "colab": {
          "base_uri": "https://localhost:8080/"
        }
      },
      "source": [
        "(B2 * 1/3) / A *100"
      ],
      "execution_count": null,
      "outputs": [
        {
          "output_type": "execute_result",
          "data": {
            "text/plain": [
              "29.166666666666668"
            ]
          },
          "metadata": {
            "tags": []
          },
          "execution_count": 40
        }
      ]
    },
    {
      "cell_type": "code",
      "metadata": {
        "id": "PiZ-b9OA1TSB",
        "outputId": "e19a6e2c-5716-4f32-a96a-fbb453cb5b65",
        "colab": {
          "base_uri": "https://localhost:8080/"
        }
      },
      "source": [
        "(B3 * 1/3) / A *100"
      ],
      "execution_count": null,
      "outputs": [
        {
          "output_type": "execute_result",
          "data": {
            "text/plain": [
              "37.5"
            ]
          },
          "metadata": {
            "tags": []
          },
          "execution_count": 41
        }
      ]
    },
    {
      "cell_type": "markdown",
      "metadata": {
        "id": "U3jFMgh012KH"
      },
      "source": [
        "Ответ: A) 33.3%; Б) 29.16%; В) 37.5%;"
      ]
    },
    {
      "cell_type": "markdown",
      "metadata": {
        "id": "7eEdVPReppV8"
      },
      "source": [
        "# Задание 5 \n",
        "\n",
        "Устройство состоит из трех деталей. Для первой детали вероятность выйти из строя в первый месяц равна 0.1, для второй - 0.2, для третьей - 0.25. Какова вероятность того, что в первый месяц выйдут из строя: а). все детали б). только две детали в). хотя бы одна деталь г). от одной до двух деталей?"
      ]
    },
    {
      "cell_type": "code",
      "metadata": {
        "id": "i7sPjE5IlFod"
      },
      "source": [
        "a = 0.1\n",
        "b = 0.2\n",
        "c = 0.25"
      ],
      "execution_count": null,
      "outputs": []
    },
    {
      "cell_type": "code",
      "metadata": {
        "id": "8qLgo73XpsLp",
        "outputId": "b3f002e5-00f7-41b3-f0d8-3fe2196f63a1",
        "colab": {
          "base_uri": "https://localhost:8080/"
        }
      },
      "source": [
        "d= a * b * c                                 #все детали\n",
        "d"
      ],
      "execution_count": null,
      "outputs": [
        {
          "output_type": "execute_result",
          "data": {
            "text/plain": [
              "0.005000000000000001"
            ]
          },
          "metadata": {
            "tags": []
          },
          "execution_count": 33
        }
      ]
    },
    {
      "cell_type": "code",
      "metadata": {
        "id": "huKnXngqksqg",
        "outputId": "032c18d7-f5ae-428c-dd7b-d95e3db75a4f",
        "colab": {
          "base_uri": "https://localhost:8080/"
        }
      },
      "source": [
        "v = (a * b) + (a * c) + (b * c)             #только две детали\n",
        "v"
      ],
      "execution_count": null,
      "outputs": [
        {
          "output_type": "execute_result",
          "data": {
            "text/plain": [
              "0.095"
            ]
          },
          "metadata": {
            "tags": []
          },
          "execution_count": 34
        }
      ]
    },
    {
      "cell_type": "code",
      "metadata": {
        "id": "LJRWQfQhk59r",
        "outputId": "ce5a9d3f-df0b-4cb8-ffc8-73b0e7c207bb",
        "colab": {
          "base_uri": "https://localhost:8080/"
        }
      },
      "source": [
        "(a+b+c) + v + d                            #хотя бы одна деталь (понимаю, что не верно. Не понимаю, почему)"
      ],
      "execution_count": null,
      "outputs": [
        {
          "output_type": "execute_result",
          "data": {
            "text/plain": [
              "0.65"
            ]
          },
          "metadata": {
            "tags": []
          },
          "execution_count": 35
        }
      ]
    },
    {
      "cell_type": "code",
      "metadata": {
        "id": "SmM4soIPmot3",
        "outputId": "3142d16e-24c5-4f41-9f11-211226cbc5af",
        "colab": {
          "base_uri": "https://localhost:8080/"
        }
      },
      "source": [
        "(a+b+c) + v                                #от одной до двух деталей (тоже не верно, тоже не понимаю почему)"
      ],
      "execution_count": null,
      "outputs": [
        {
          "output_type": "execute_result",
          "data": {
            "text/plain": [
              "0.645"
            ]
          },
          "metadata": {
            "tags": []
          },
          "execution_count": 36
        }
      ]
    }
  ]
}